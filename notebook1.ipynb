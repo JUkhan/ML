{
 "cells": [
  {
   "cell_type": "code",
   "execution_count": 1,
   "metadata": {},
   "outputs": [
    {
     "name": "stdout",
     "output_type": "stream",
     "text": [
      "285\n"
     ]
    }
   ],
   "source": [
    "print(sum(i**2 for i in range(10)))"
   ]
  },
  {
   "cell_type": "code",
   "execution_count": 2,
   "metadata": {},
   "outputs": [
    {
     "name": "stdout",
     "output_type": "stream",
     "text": [
      "0 : 0\n",
      "1 : 1\n",
      "2 : 1\n",
      "3 : 2\n",
      "4 : 3\n",
      "5 : 5\n",
      "6 : 8\n",
      "7 : 13\n",
      "8 : 21\n",
      "9 : 34\n"
     ]
    }
   ],
   "source": [
    "def fib(nums):\n",
    "    a,b=0,1\n",
    "    for i in range(0,nums):\n",
    "        yield f\"{i} : {a}\"\n",
    "        a,b=b, a+b\n",
    "for res in fib(10):\n",
    "    print(res)"
   ]
  },
  {
   "cell_type": "code",
   "execution_count": 3,
   "metadata": {},
   "outputs": [
    {
     "name": "stdout",
     "output_type": "stream",
     "text": [
      "ripon ----> red\n",
      "jasim ----> green\n",
      "Arif ----> yellow\n"
     ]
    }
   ],
   "source": [
    "names=[\"ripon\",\"jasim\",\"Arif\"]\n",
    "colors=['red','green','yellow']\n",
    "\n",
    "for name, color in zip(names,colors):\n",
    "    print(name,'---->', color)"
   ]
  },
  {
   "cell_type": "code",
   "execution_count": 4,
   "metadata": {},
   "outputs": [
    {
     "name": "stdout",
     "output_type": "stream",
     "text": [
      "5\n",
      "4\n",
      "3\n",
      "2\n",
      "1\n"
     ]
    }
   ],
   "source": [
    "vals=[1,2,3,4,5]\n",
    "for i in reversed(vals):\n",
    "    print(i)"
   ]
  },
  {
   "cell_type": "code",
   "execution_count": 5,
   "metadata": {},
   "outputs": [
    {
     "name": "stdout",
     "output_type": "stream",
     "text": [
      "0 ---> 1\n",
      "1 ---> 2\n",
      "2 ---> 3\n",
      "3 ---> 4\n",
      "4 ---> 5\n"
     ]
    }
   ],
   "source": [
    "for i,val in enumerate(vals):\n",
    "    print(i, '--->', val)"
   ]
  },
  {
   "cell_type": "code",
   "execution_count": 6,
   "metadata": {},
   "outputs": [
    {
     "name": "stdout",
     "output_type": "stream",
     "text": [
      "['red', 'green', 'yellow']\n"
     ]
    }
   ],
   "source": [
    "print(sorted(colors, key=len))"
   ]
  },
  {
   "cell_type": "code",
   "execution_count": 7,
   "metadata": {},
   "outputs": [
    {
     "name": "stdout",
     "output_type": "stream",
     "text": [
      "16\n"
     ]
    }
   ],
   "source": [
    "from functools import partial\n",
    "def multiply(x, y):\n",
    "    return x*y\n",
    "db=partial(multiply, 2)\n",
    "db=partial(db, 8)\n",
    "print(db())"
   ]
  },
  {
   "cell_type": "code",
   "execution_count": 8,
   "metadata": {},
   "outputs": [
    {
     "name": "stdout",
     "output_type": "stream",
     "text": [
      "1\n"
     ]
    }
   ],
   "source": [
    "def find(seq, target):\n",
    "    for i, val in enumerate(seq):\n",
    "        if val==target:\n",
    "            break\n",
    "        \n",
    "    else:\n",
    "        return -1\n",
    "    return i\n",
    "\n",
    "print(find(colors, 'green'))"
   ]
  },
  {
   "cell_type": "code",
   "execution_count": 9,
   "metadata": {},
   "outputs": [
    {
     "data": {
      "text/plain": [
       "{'jasim': 'red', 'arif': 'pink'}"
      ]
     },
     "execution_count": 9,
     "metadata": {},
     "output_type": "execute_result"
    }
   ],
   "source": [
    "d={'jasim':'red', 'ripon':'yellow','rashed':'green','arif':'pink'}\n",
    "delete_start_with_r={k:d[k] for k in d if not k.startswith('r')}\n",
    "delete_start_with_r"
   ]
  },
  {
   "cell_type": "code",
   "execution_count": 10,
   "metadata": {},
   "outputs": [
    {
     "name": "stdout",
     "output_type": "stream",
     "text": [
      "jasim red\n",
      "ripon yellow\n",
      "rashed green\n",
      "arif pink\n"
     ]
    }
   ],
   "source": [
    "for k,v in d.items():\n",
    "    print(k,v)"
   ]
  },
  {
   "cell_type": "code",
   "execution_count": 11,
   "metadata": {},
   "outputs": [
    {
     "name": "stdout",
     "output_type": "stream",
     "text": [
      "defaultdict(<class 'int'>, {'red': 2, 'green': 2, 'yellow': 1})\n"
     ]
    }
   ],
   "source": [
    "from collections import defaultdict, ChainMap\n",
    "colors=['red','green','yellow', 'green', 'red']\n",
    "group=defaultdict(int)\n",
    "for color in colors:\n",
    "  group[color] +=1\n",
    "print(group)"
   ]
  },
  {
   "cell_type": "code",
   "execution_count": 12,
   "metadata": {},
   "outputs": [
    {
     "name": "stdout",
     "output_type": "stream",
     "text": [
      "4 ['arif', 'asma']\n",
      "5 ['jasim', 'faruk', 'ripon']\n"
     ]
    }
   ],
   "source": [
    "data=['jasim','arif','faruk','ripon','asma']\n",
    "data_group=defaultdict(list)\n",
    "for d in data:\n",
    "    data_group[len(d)].append(d)\n",
    "while data_group:\n",
    "    k,v=data_group.popitem()\n",
    "    print(k, v)\n"
   ]
  },
  {
   "cell_type": "code",
   "execution_count": 13,
   "metadata": {},
   "outputs": [
    {
     "name": "stdout",
     "output_type": "stream",
     "text": [
      "b B\n",
      "c C\n",
      "a A\n"
     ]
    }
   ],
   "source": [
    "a = {'a': 'A', 'c': 'C'}\n",
    "b = {'b': 'B', 'c': 'D'}\n",
    "\n",
    "m = ChainMap(a, b)\n",
    "for k,v in m.items():\n",
    "    print(k,v)"
   ]
  },
  {
   "cell_type": "markdown",
   "metadata": {},
   "source": [
    "## ChainMap\n",
    "\n",
    "```python\n",
    "# cli.py\n",
    "import argparse\n",
    "import os\n",
    "from collections import ChainMap\n",
    "\n",
    "defaults = {'debug': False}\n",
    "\n",
    "parser = argparse.ArgumentParser()\n",
    "parser.add_argument('--debug')\n",
    "args = parser.parse_args()\n",
    "cli_args = {key: value for key, value in vars(args).items() if value}\n",
    "\n",
    "config = ChainMap(cli_args, os.environ, defaults)\n",
    "\n",
    "print(config.get('debug'))\n",
    "```\n",
    "- $ python cli.py\n",
    "- False\n",
    "- $ python cli.py --debug 1\n",
    "- 1\n",
    "- $ export debug=True\n",
    "- $ python cli.py\n",
    "- True\n",
    "- $ python cli.py --debug yes\n",
    "- yes"
   ]
  },
  {
   "cell_type": "code",
   "execution_count": 14,
   "metadata": {},
   "outputs": [
    {
     "name": "stdout",
     "output_type": "stream",
     "text": [
      "jasim 34 tangail\n"
     ]
    }
   ],
   "source": [
    "p=\"jasim\", 34,\"tangail\"\n",
    "name, age, address=p\n",
    "print(name, age, address)"
   ]
  },
  {
   "cell_type": "code",
   "execution_count": 15,
   "metadata": {},
   "outputs": [
    {
     "name": "stdout",
     "output_type": "stream",
     "text": [
      "17, 5.666666666666667, 2.4000000000000004, 0.44999999999999996\n"
     ]
    }
   ],
   "source": [
    "x,y=12,5\n",
    "x,y,dx,dy=(x+y,\n",
    "           (x+y)/3,\n",
    "           x*0.2,\n",
    "           y*0.09)\n",
    "print(f\"{x}, {y}, {dx}, {dy}\")"
   ]
  },
  {
   "cell_type": "code",
   "execution_count": 16,
   "metadata": {},
   "outputs": [
    {
     "data": {
      "text/plain": [
       "['jasim', 'arif', 'faruk', 'ripon', 'asma']"
      ]
     },
     "execution_count": 16,
     "metadata": {},
     "output_type": "execute_result"
    }
   ],
   "source": [
    "data"
   ]
  },
  {
   "cell_type": "code",
   "execution_count": 17,
   "metadata": {},
   "outputs": [
    {
     "name": "stdout",
     "output_type": "stream",
     "text": [
      "jasim,arif,faruk,ripon,asma\n"
     ]
    }
   ],
   "source": [
    "print(','.join(data))"
   ]
  },
  {
   "cell_type": "code",
   "execution_count": 18,
   "metadata": {},
   "outputs": [
    {
     "ename": "NameError",
     "evalue": "name 'os' is not defined",
     "output_type": "error",
     "traceback": [
      "\u001b[0;31m---------------------------------------------------------------------------\u001b[0m",
      "\u001b[0;31mNameError\u001b[0m                                 Traceback (most recent call last)",
      "\u001b[0;32m<ipython-input-18-c555891fcec2>\u001b[0m in \u001b[0;36m<module>\u001b[0;34m\u001b[0m\n\u001b[1;32m      1\u001b[0m \u001b[0;32mfrom\u001b[0m \u001b[0mcontextlib\u001b[0m \u001b[0;32mimport\u001b[0m \u001b[0msuppress\u001b[0m\u001b[0;34m\u001b[0m\u001b[0;34m\u001b[0m\u001b[0m\n\u001b[1;32m      2\u001b[0m \u001b[0;32mwith\u001b[0m \u001b[0msuppress\u001b[0m\u001b[0;34m(\u001b[0m\u001b[0mOSError\u001b[0m\u001b[0;34m)\u001b[0m\u001b[0;34m:\u001b[0m\u001b[0;34m\u001b[0m\u001b[0;34m\u001b[0m\u001b[0m\n\u001b[0;32m----> 3\u001b[0;31m     \u001b[0mos\u001b[0m\u001b[0;34m.\u001b[0m\u001b[0mremove\u001b[0m\u001b[0;34m(\u001b[0m\u001b[0;34m'smth.txt'\u001b[0m\u001b[0;34m)\u001b[0m\u001b[0;34m\u001b[0m\u001b[0;34m\u001b[0m\u001b[0m\n\u001b[0m",
      "\u001b[0;31mNameError\u001b[0m: name 'os' is not defined"
     ]
    }
   ],
   "source": [
    "from contextlib import suppress\n",
    "with suppress(OSError):\n",
    "    os.remove('smth.txt')"
   ]
  },
  {
   "cell_type": "code",
   "execution_count": 19,
   "metadata": {},
   "outputs": [
    {
     "name": "stdout",
     "output_type": "stream",
     "text": [
      "3 5 10\n"
     ]
    }
   ],
   "source": [
    "t1=(1,2,4)\n",
    "t2=(2,3,6)\n",
    "t3=(x+y for x,y in zip(t1, t2))\n",
    "x,y,z=t3\n",
    "print(x,y,z)\n"
   ]
  },
  {
   "cell_type": "code",
   "execution_count": 20,
   "metadata": {},
   "outputs": [
    {
     "name": "stdout",
     "output_type": "stream",
     "text": [
      "0\n",
      "1\n",
      "2\n",
      "3\n",
      "4\n",
      "-----simplest-----\n",
      "0\n",
      "1\n",
      "2\n",
      "3\n",
      "4\n"
     ]
    }
   ],
   "source": [
    "from time import sleep\n",
    "class Compute:\n",
    "    def __init__(self, times=5):\n",
    "        self.times=times\n",
    "    def __iter__(self):\n",
    "        self.last=0\n",
    "        return self\n",
    "    def __next__(self):\n",
    "        rv = self.last\n",
    "        self.last +=1\n",
    "        if self.last > self.times:\n",
    "            raise StopIteration()\n",
    "        sleep(.5)\n",
    "        return rv\n",
    "    \n",
    "for v in Compute():\n",
    "    print(v)\n",
    "    \n",
    "# simplest way\n",
    "print('-----simplest-----')\n",
    "def compute(times=5):\n",
    "    for i in range(times):\n",
    "        sleep(0.5)\n",
    "        yield i\n",
    "\n",
    "for i in compute():\n",
    "    print(i)\n",
    "        "
   ]
  },
  {
   "cell_type": "code",
   "execution_count": 21,
   "metadata": {},
   "outputs": [
    {
     "name": "stdout",
     "output_type": "stream",
     "text": [
      "times take: -9.5367431640625e-07\n",
      "5\n"
     ]
    }
   ],
   "source": [
    "from time import time\n",
    "def timeit(func):\n",
    "    def f(*a, **aa):\n",
    "        start=time()\n",
    "        res=func(*a, **aa)\n",
    "        print(f'times take: {start-time()}')\n",
    "        return res;\n",
    "    \n",
    "    return f\n",
    "\n",
    "@timeit\n",
    "def add(x,y):\n",
    "    return x+y\n",
    "\n",
    "\n",
    "print(add(3, 2))\n"
   ]
  },
  {
   "cell_type": "code",
   "execution_count": 23,
   "metadata": {},
   "outputs": [
    {
     "name": "stdout",
     "output_type": "stream",
     "text": [
      "-----setup action-----\n",
      "table created\n",
      "[do something]\n",
      "-----tear down action------\n",
      "table dropped\n"
     ]
    }
   ],
   "source": [
    "from contextlib import contextmanager\n",
    "\n",
    "@contextmanager\n",
    "def temptable(cur):\n",
    "    print('-----setup action-----')\n",
    "    print('table created')\n",
    "    try:\n",
    "        yield\n",
    "        \n",
    "    finally:\n",
    "           print('-----tear down action------')\n",
    "           print('table dropped')\n",
    "\n",
    "with temptable(None):\n",
    "    print('[do something]')"
   ]
  },
  {
   "cell_type": "code",
   "execution_count": null,
   "metadata": {},
   "outputs": [],
   "source": []
  }
 ],
 "metadata": {
  "kernelspec": {
   "display_name": "Python 3",
   "language": "python",
   "name": "python3"
  },
  "language_info": {
   "codemirror_mode": {
    "name": "ipython",
    "version": 3
   },
   "file_extension": ".py",
   "mimetype": "text/x-python",
   "name": "python",
   "nbconvert_exporter": "python",
   "pygments_lexer": "ipython3",
   "version": "3.7.1"
  }
 },
 "nbformat": 4,
 "nbformat_minor": 2
}
